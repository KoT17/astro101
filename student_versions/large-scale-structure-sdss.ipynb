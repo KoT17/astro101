{
 "cells": [
  {
   "cell_type": "markdown",
   "metadata": {},
   "source": [
    "# Galaxies and the large-scale structure of the Universe"
   ]
  },
  {
   "cell_type": "markdown",
   "metadata": {},
   "source": [
    "# Introduction\n",
    "\n",
    "\n",
    "In this Notebook, you will use real astronomy data to explore the relationship between galaxy properties and the large-scale structure of the Universe. \n",
    "\n",
    "In the end, you should have found an answer to the following questions:\n",
    "\n",
    "* How are galaxies spatially distributed in the Universe?\n",
    "* Are galaxies all the same colour?\n",
    "* Are galaxies all the same shape?\n",
    "* How are galaxies' colours and shapes related to their spacial distribution?\n",
    "\n",
    "\n",
    "## SDSS and SciServer\n",
    "\n",
    "You will answer the above questions yourself, by exploring the largest astronomical dataset in the world - the Sloan Digital Sky Survey (www.sdss.org). You will interact directly with the data by running Python commands inside this online notebook in the SciServer virtual computing environment. That means you can work with the largest astronomical dataset in the world using only your web browser.\n",
    "\n",
    "\n",
    "If you're reading this, you have already followed the instructions to get an account on SciServer, and have uploaded this notebook. These exercise assume that you are familiar with basic Python, dataframe manipulation, and matplotlib commands.\n"
   ]
  },
  {
   "cell_type": "markdown",
   "metadata": {},
   "source": [
    "## Part 1: a map of the Universe"
   ]
  },
  {
   "cell_type": "markdown",
   "metadata": {},
   "source": [
    "In this section, you will get the positions of thousands of galaxies and plot them to make a map of the Universe."
   ]
  },
  {
   "cell_type": "markdown",
   "metadata": {},
   "source": [
    "### Import libraries and apply settings\n",
    "\n",
    "Before we do anything else, we need to tell Python to import the libaries it will need."
   ]
  },
  {
   "cell_type": "code",
   "execution_count": null,
   "metadata": {},
   "outputs": [],
   "source": [
    "# # Import Python libraries to work with SciServer\n",
    "import SciServer.CasJobs as CasJobs # query with CasJobs\n",
    "import SciServer.SkyServer as SkyServer   # show individual objects and generate thumbnail images through SkyServer\n",
    "#print('SciServer libraries imported')\n",
    "\n",
    "# # Import other libraries for use in this notebook.\n",
    "import numpy as np                  # standard Python lib for math ops\n",
    "# from scipy.misc import imsave       # save images as files\n",
    "import pandas                       # data manipulation package\n",
    "import matplotlib.pyplot as plt     # another graphing package\n",
    "# import os                           # manage local files in your Compute containers\n",
    "#print('Supporting libraries imported')\n",
    "\n",
    "# #import astroML\n",
    "# #from astroML.datasets import fetch_sdss_spectrum\n",
    "# from astropy.io import ascii\n",
    "\n",
    "# # Apply some special settings to the imported libraries\n",
    "# # ensure columns get written completely in notebook\n",
    "pandas.set_option('display.max_colwidth', None)\n",
    "# # do *not* show python warnings \n",
    "# import warnings\n",
    "#warnings.filterwarnings('ignore')\n",
    "print('Libraries imported and settings applied!')"
   ]
  },
  {
   "cell_type": "markdown",
   "metadata": {},
   "source": [
    "### Querying the SDSS database\n",
    "\n",
    "The SDSS stores its data in an online database. You can communicate with the database by sending \"queries\" written in Structured Query Language (SQL). For each query command, the database returns an answer. Usually, the answer will be a subsample of the original database, though SQL can operate on the data very effectively too. \n",
    "\n",
    "In this tutorial, we will submit queries to the SDSS database to gather the information that we need, and then we will use python to operate on, manipulate, and vizualise that data.\n",
    "\n",
    "An extensive tutorial on how to query the SDSS database is provided here: http://skyserver.sdss.org/dr16/en/help/howto/search/searchhowtohome.aspx \n",
    "\n",
    "In short, every SQL command consists of three blocks: \n",
    "- The **SELECT** block: it defines the quantities that you want your query to return.\n",
    "- The **FROM** block: it defines which tables of the database you want SQL to look in.\n",
    "- The **WHERE** block: it defines any constraints on the data that you want to impose.\n",
    "\n",
    "To make your map of the Universe (Part 1 of this activity), you won't have to write SQL queries from scratch, only execute commands that are already written for you."
   ]
  },
  {
   "cell_type": "markdown",
   "metadata": {},
   "source": [
    "The code cell below searches the latest SDSS data release and returns information on a sample of galaxies.\n",
    "\n",
    "**Click inside the code cell and click Run to see how many galaxies the query has found.**"
   ]
  },
  {
   "cell_type": "code",
   "execution_count": null,
   "metadata": {},
   "outputs": [],
   "source": [
    "query=\"\"\"\n",
    "SELECT p.objId,p.ra,p.dec,p.petror90_r, p.expAB_r,\n",
    "    p.dered_u as u, p.dered_g as g, p.dered_r as r, p.dered_i as i, \n",
    "    s.z, s.plate, s.mjd, s.fiberid\n",
    "FROM galaxy AS p\n",
    "   JOIN SpecObj AS s ON s.bestobjid = p.objid\n",
    "WHERE p.petror90_r > 10\n",
    "  and p.ra between 100 and 250\n",
    "  and s.z between 0.02 and 0.5\n",
    "  and p.g < 17\n",
    "\"\"\"\n",
    "\n",
    "print('Submitting query...')\n",
    "all_gals = CasJobs.executeQuery(query, \"dr16\")\n",
    "\n",
    "print(\"SQL query returned \" + str(len(all_gals))+ \" galaxies\")\n",
    "#print(\"SQL query returned {0:,.0f} galaxies!\".format(len(all_gals)))"
   ]
  },
  {
   "cell_type": "markdown",
   "metadata": {},
   "source": [
    "The dataframe that is returned, which we named all_gals, holds the following quantities (in columns) for each galaxy:\n",
    "\n",
    "- ra = Right Ascencion coordinate in degrees\n",
    "- dec = Declination coordinate in degrees\n",
    "- petror90_r = Radius enclosing 90% of the pertrosian flux in arcseconds. i.e., size of the galaxy in the sky.\n",
    "- dered_u, dered_g, dered_r, dered_i, dered_z = Magnitudes in 5 optical filters, from the blue to the red, after subtracting the attenuation due to the Milky Way.\n",
    "- z = Redshift of the galaxy\n",
    "- plate = Plate number (SDSS used alluminium plates with drilled holes for positioning optical fibers).\n",
    "- mjd = Date of the observation\n",
    "- fiberid = Number of the fiber in a given plate. Plates have between 640 and 1000 fibers."
   ]
  },
  {
   "cell_type": "markdown",
   "metadata": {},
   "source": [
    "Let's have a look at the first 10 elements of the returned table (dataframe) by running the Code cell below:"
   ]
  },
  {
   "cell_type": "code",
   "execution_count": null,
   "metadata": {},
   "outputs": [],
   "source": [
    "all_gals[0:10]"
   ]
  },
  {
   "cell_type": "markdown",
   "metadata": {},
   "source": [
    "## The large scale structure of the Universe "
   ]
  },
  {
   "cell_type": "markdown",
   "metadata": {},
   "source": [
    "Now that we have data for thousands of galaxies, let's make a scatterplot of the positions of galaxies. \n",
    "\n",
    "Remember to add labels and a title to your plot. Given the large number of points, you might want to use marker='.' and s='1'.\n",
    "\n",
    "Run the Code cell below to make the scatterplot. "
   ]
  },
  {
   "cell_type": "code",
   "execution_count": null,
   "metadata": {},
   "outputs": [],
   "source": [
    "#Possible solution\n",
    "plt.figure(figsize=(13,10))\n",
    "plt.scatter(all_gals['ra'], all_gals['dec'], marker='.', color='black',s=1)\n",
    "plt.xlabel('RA', fontsize=15); plt.ylabel('Dec', fontsize=15)\n",
    "plt.title('Galaxy positions', fontsize=15)\n",
    "plt.ylim(-5,70)\n",
    "plt.show()"
   ]
  },
  {
   "cell_type": "markdown",
   "metadata": {},
   "source": [
    "### Exercise"
   ]
  },
  {
   "cell_type": "markdown",
   "metadata": {},
   "source": [
    "What can you tell from the distribution of galaxies? Are they uniformly distributed on the sky? Enter the answer in the textbox below."
   ]
  },
  {
   "cell_type": "markdown",
   "metadata": {},
   "source": [
    "type your answer here!"
   ]
  },
  {
   "cell_type": "code",
   "execution_count": null,
   "metadata": {},
   "outputs": [],
   "source": []
  }
 ],
 "metadata": {
  "kernelspec": {
   "display_name": "Python 3.8 (py38)",
   "language": "python",
   "name": "py38"
  },
  "language_info": {
   "codemirror_mode": {
    "name": "ipython",
    "version": 3
   },
   "file_extension": ".py",
   "mimetype": "text/x-python",
   "name": "python",
   "nbconvert_exporter": "python",
   "pygments_lexer": "ipython3",
   "version": "3.8.5"
  }
 },
 "nbformat": 4,
 "nbformat_minor": 1
}
